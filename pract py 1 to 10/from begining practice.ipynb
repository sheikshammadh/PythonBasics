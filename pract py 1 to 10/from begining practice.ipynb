{
 "cells": [
  {
   "cell_type": "code",
   "execution_count": 10,
   "id": "7225ed02-e8de-4953-929e-d22dd77edc72",
   "metadata": {},
   "outputs": [
    {
     "name": "stdout",
     "output_type": "stream",
     "text": [
      "{'rahul', 'gandhi', 'preethi'}\n"
     ]
    }
   ],
   "source": [
    "enames={'rahul','sonia','preethi','gandhi'}\n",
    "enames.discard('sonia')\n",
    "print(enames)"
   ]
  },
  {
   "cell_type": "code",
   "execution_count": 2,
   "id": "3ae83295-ee87-477f-a656-69a22f897530",
   "metadata": {},
   "outputs": [
    {
     "name": "stdout",
     "output_type": "stream",
     "text": [
      "{'gandhi', 'preethi', 'sonia'}\n"
     ]
    }
   ],
   "source": [
    "enames={'rahul','sonia','preethi','gandhi'}\n",
    "enames.remove('rahul')\n",
    "print(enames)"
   ]
  },
  {
   "cell_type": "code",
   "execution_count": 11,
   "id": "8a968405-f47c-48dd-b4e2-2bd43c4f34ed",
   "metadata": {},
   "outputs": [
    {
     "name": "stdout",
     "output_type": "stream",
     "text": [
      "<class 'bytearray'>\n"
     ]
    }
   ],
   "source": [
    "b=bytearray([10,20,30,40,50])\n",
    "print(type(b))\n"
   ]
  },
  {
   "cell_type": "code",
   "execution_count": 13,
   "id": "7854ca88-45f8-4060-8037-e200b55fe0fc",
   "metadata": {},
   "outputs": [
    {
     "name": "stdout",
     "output_type": "stream",
     "text": [
      "<class 'bytearray'>\n",
      "10\n",
      "20\n",
      "30\n",
      "40\n",
      "50\n"
     ]
    }
   ],
   "source": [
    "b=bytearray([10,20,30,40,50])\n",
    "print(type(b))\n",
    "print(b[0])\n",
    "print(b[1])\n",
    "print(b[2])\n",
    "print(b[3])\n",
    "print(b[4])\n"
   ]
  },
  {
   "cell_type": "code",
   "execution_count": 18,
   "id": "c1ed9d6d-48b6-4cbc-8d19-d42bb97cebb9",
   "metadata": {},
   "outputs": [
    {
     "name": "stdout",
     "output_type": "stream",
     "text": [
      "type[bytearray(b'\\n(2<7')]\n"
     ]
    },
    {
     "ename": "IndexError",
     "evalue": "bytearray index out of range",
     "output_type": "error",
     "traceback": [
      "\u001b[1;31m---------------------------------------------------------------------------\u001b[0m",
      "\u001b[1;31mIndexError\u001b[0m                                Traceback (most recent call last)",
      "Cell \u001b[1;32mIn[18], line 3\u001b[0m\n\u001b[0;32m      1\u001b[0m b\u001b[38;5;241m=\u001b[39m\u001b[38;5;28mbytearray\u001b[39m([\u001b[38;5;241m10\u001b[39m,\u001b[38;5;241m40\u001b[39m,\u001b[38;5;241m50\u001b[39m,\u001b[38;5;241m60\u001b[39m,\u001b[38;5;241m55\u001b[39m])\n\u001b[0;32m      2\u001b[0m \u001b[38;5;28mprint\u001b[39m(\u001b[38;5;28mtype\u001b[39m[b])\n\u001b[1;32m----> 3\u001b[0m \u001b[38;5;28mprint\u001b[39m(\u001b[43mb\u001b[49m\u001b[43m[\u001b[49m\u001b[38;5;241;43m5\u001b[39;49m\u001b[43m]\u001b[49m)\n\u001b[0;32m      4\u001b[0m \u001b[38;5;28mprint\u001b[39m(b[\u001b[38;5;241m4\u001b[39m])\n\u001b[0;32m      5\u001b[0m \u001b[38;5;28mprint\u001b[39m(b[\u001b[38;5;241m2\u001b[39m])\n",
      "\u001b[1;31mIndexError\u001b[0m: bytearray index out of range"
     ]
    }
   ],
   "source": [
    "b=bytearray([10,40,50,60,55])\n",
    "print(type[b])\n",
    "print(b[5])# out of range gives index error.\n",
    "print(b[4])\n",
    "print(b[2])"
   ]
  },
  {
   "cell_type": "code",
   "execution_count": 19,
   "id": "65517c11-0d3f-4827-9bfc-683997e36599",
   "metadata": {},
   "outputs": [
    {
     "name": "stdout",
     "output_type": "stream",
     "text": [
      "type[bytearray(b'\\n(2<7')]\n",
      "40\n",
      "55\n",
      "50\n"
     ]
    }
   ],
   "source": [
    "b=bytearray([10,40,50,60,55])\n",
    "print(type[b])\n",
    "print(b[1])\n",
    "print(b[4])\n",
    "print(b[2])"
   ]
  },
  {
   "cell_type": "code",
   "execution_count": 24,
   "id": "fe7d5144-07dd-4fd5-8fb9-443032871927",
   "metadata": {},
   "outputs": [
    {
     "name": "stdout",
     "output_type": "stream",
     "text": [
      "bytearray(b'\\n\\x14\\x1e(2')\n",
      "bytearray(b'\\n\\x14\\x1e(2')\n",
      "bytearray(b'\\n\\x14\\x1e(2')\n",
      "bytearray(b'\\n\\x14\\x1e(2')\n",
      "bytearray(b'\\n\\x14\\x1e(2')\n",
      "bytearray(b'\\n\\x14\\x1e(2')\n",
      "bytearray(b'\\n\\x14\\x1e(2')\n",
      "bytearray(b'\\n\\x14\\x1e(2')\n",
      "bytearray(b'\\n\\x14\\x1e(2')\n",
      "bytearray(b'\\n\\x14\\x1e(2')\n"
     ]
    }
   ],
   "source": [
    "b=bytearray([10,20,30,40,50])\n",
    "i=0\n",
    "for i in range(10):\n",
    "    print(b)\n",
    "    "
   ]
  },
  {
   "cell_type": "code",
   "execution_count": 30,
   "id": "6033050c-9e07-4957-882a-9ddd45f820b0",
   "metadata": {},
   "outputs": [
    {
     "name": "stdout",
     "output_type": "stream",
     "text": [
      "[10, 20, 30, 30, 20, 10]\n",
      "{10, 20, 30}\n"
     ]
    }
   ],
   "source": [
    "l=[10,20,30,30,20,10] #list object -duplicates allowed\n",
    "s={10,20,30,30,20,10} #set object -duplicates allowed\n",
    "print(l)\n",
    "print(s)"
   ]
  },
  {
   "cell_type": "code",
   "execution_count": 31,
   "id": "1241d6c4-f91e-41a7-8142-3d7e19d2eca2",
   "metadata": {},
   "outputs": [
    {
     "name": "stdout",
     "output_type": "stream",
     "text": [
      "2024-12-18 13:02:24.040419\n",
      "13:02:24.049469\n",
      "2024\n",
      "12\n",
      "18\n",
      "2024-12-18\n",
      "13\n",
      "2\n",
      "24\n",
      "49469\n"
     ]
    }
   ],
   "source": [
    "from datetime import datetime\n",
    "\n",
    "print(datetime.now())\n",
    "\n",
    "print(datetime.now().time())\n",
    "print(datetime.now().year)\n",
    "print(datetime.now().month)\n",
    "print(datetime.now().day)\n",
    "\n",
    "print(datetime.now().date())\n",
    "print(datetime.now().hour)\n",
    "print(datetime.now().minute)\n",
    "print(datetime.now().second)\n",
    "print(datetime.now().microsecond)"
   ]
  },
  {
   "cell_type": "code",
   "execution_count": 33,
   "id": "cedd647c-22d4-4051-8cf1-6285f1db0249",
   "metadata": {},
   "outputs": [
    {
     "name": "stdout",
     "output_type": "stream",
     "text": [
      "2024-12-18 13:02:53.140463\n"
     ]
    }
   ],
   "source": [
    "print(datetime.now())"
   ]
  },
  {
   "cell_type": "code",
   "execution_count": 42,
   "id": "43657a21-4059-487a-8441-7974327cc826",
   "metadata": {},
   "outputs": [
    {
     "name": "stdout",
     "output_type": "stream",
     "text": [
      "<built-in method date of datetime.datetime object at 0x00000207442274B0>\n",
      "18\n",
      "<built-in method time of datetime.datetime object at 0x00000207442274B0>\n",
      "13\n",
      "9\n",
      "8\n",
      "306087\n"
     ]
    }
   ],
   "source": [
    "print(datetime.now().date)\n",
    "print(datetime.now().day)\n",
    "print(datetime.now().time)\n",
    "print(datetime.now().hour)\n",
    "print(datetime.now().minute)\n",
    "print(datetime.now().second)\n",
    "print(datetime.now().microsecond)"
   ]
  },
  {
   "cell_type": "code",
   "execution_count": 11,
   "id": "d125ce82-65f7-4446-a1de-8e7a37efd32e",
   "metadata": {},
   "outputs": [
    {
     "ename": "SyntaxError",
     "evalue": "invalid syntax (1906662344.py, line 4)",
     "output_type": "error",
     "traceback": [
      "\u001b[1;36m  Cell \u001b[1;32mIn[11], line 4\u001b[1;36m\u001b[0m\n\u001b[1;33m    print('name':'nandu')\u001b[0m\n\u001b[1;37m                ^\u001b[0m\n\u001b[1;31mSyntaxError\u001b[0m\u001b[1;31m:\u001b[0m invalid syntax\n"
     ]
    }
   ],
   "source": [
    "employees={'name':'shyam','from':'ktp'}\n",
    "employees.update({'shyam':'nandu'})\n",
    "for x in employees:\n",
    "    print('name':'nandu')"
   ]
  },
  {
   "cell_type": "code",
   "execution_count": 8,
   "id": "e7ec0080-8798-4395-a199-e2d301770db3",
   "metadata": {},
   "outputs": [
    {
     "name": "stdout",
     "output_type": "stream",
     "text": [
      "{'id': 101, 'name': 'Rahul', 'gender': 'male'}\n",
      "{'id': 102, 'name': 'Soniya', 'gender': 'female'}\n",
      "{'id': 103, 'name': 'Priya', 'gender': 'female'}\n"
     ]
    }
   ],
   "source": [
    "employees = [ {'id': 101, 'name': 'Rahul', 'gender': 'male'},\n",
    "             {'id': 102, 'name': 'Soniya', 'gender': 'female'},\n",
    "             {'id': 103, 'name': 'Priya', 'gender': 'female'} \n",
    "            ]\n",
    "for i in employees:\n",
    "    print(i)"
   ]
  },
  {
   "cell_type": "code",
   "execution_count": 12,
   "id": "1879807b-0924-4d4f-bd63-7d8d485bf7ad",
   "metadata": {},
   "outputs": [
    {
     "name": "stdout",
     "output_type": "stream",
     "text": [
      "name: Shyam\n",
      "from: KTP\n",
      "shyam: nandu\n"
     ]
    }
   ],
   "source": [
    "# Define the dictionary \n",
    "employees = {'name': 'Shyam', 'from': 'KTP'} # Update the dictionary with new key-value pair \n",
    "employees.update({'shyam': 'nandu'}) # Iterate over the dictionary and print each key-value pair\n",
    "for key, value in employees.items(): print(f'{key}: {value}')"
   ]
  },
  {
   "cell_type": "code",
   "execution_count": null,
   "id": "5ec66f51-093b-427a-be1b-f68593c85729",
   "metadata": {},
   "outputs": [],
   "source": []
  }
 ],
 "metadata": {
  "kernelspec": {
   "display_name": "Python 3 (ipykernel)",
   "language": "python",
   "name": "python3"
  },
  "language_info": {
   "codemirror_mode": {
    "name": "ipython",
    "version": 3
   },
   "file_extension": ".py",
   "mimetype": "text/x-python",
   "name": "python",
   "nbconvert_exporter": "python",
   "pygments_lexer": "ipython3",
   "version": "3.12.5"
  }
 },
 "nbformat": 4,
 "nbformat_minor": 5
}
