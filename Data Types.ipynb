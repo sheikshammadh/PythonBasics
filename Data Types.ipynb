{
 "cells": [
  {
   "cell_type": "code",
   "execution_count": 2,
   "id": "ffe959f2-998d-47da-8846-fc959d0b31c3",
   "metadata": {},
   "outputs": [
    {
     "name": "stdout",
     "output_type": "stream",
     "text": [
      "[10, 20, 30, 40]\n",
      "(10, 20, 30)\n",
      "{10, 20, 30}\n",
      "{'eid': 1001, 'ename': 'Rahul'}\n"
     ]
    }
   ],
   "source": [
    "l = [10,20,30,40]\n",
    "t = (10,20,30)\n",
    "s = {10,20,30}\n",
    "d = {\n",
    "    'eid':1001,\n",
    "    'ename':'Rahul'\n",
    "}\n",
    "print(l)\n",
    "print(t)\n",
    "print(s)\n",
    "print(d)"
   ]
  },
  {
   "cell_type": "code",
   "execution_count": 1,
   "id": "b2ea2b79-899a-4614-83bd-c58df9d881bf",
   "metadata": {},
   "outputs": [
    {
     "name": "stdout",
     "output_type": "stream",
     "text": [
      "[10, 20, 30, 40]\n"
     ]
    }
   ],
   "source": [
    "# recreate - Attribute Eror \n",
    "\n",
    "l=[10,20,30]\n",
    "l.append(40)\n",
    "print(l)"
   ]
  },
  {
   "cell_type": "code",
   "execution_count": null,
   "id": "9cb988a3-32f8-458e-85c2-50e388114250",
   "metadata": {},
   "outputs": [],
   "source": []
  },
  {
   "cell_type": "code",
   "execution_count": null,
   "id": "acd43ff9-2340-47b2-9662-1f0554f27bda",
   "metadata": {},
   "outputs": [],
   "source": []
  },
  {
   "cell_type": "code",
   "execution_count": null,
   "id": "46a43d7c-2eec-496f-a38b-e20288dfdec9",
   "metadata": {},
   "outputs": [],
   "source": []
  }
 ],
 "metadata": {
  "kernelspec": {
   "display_name": "Python 3 (ipykernel)",
   "language": "python",
   "name": "python3"
  },
  "language_info": {
   "codemirror_mode": {
    "name": "ipython",
    "version": 3
   },
   "file_extension": ".py",
   "mimetype": "text/x-python",
   "name": "python",
   "nbconvert_exporter": "python",
   "pygments_lexer": "ipython3",
   "version": "3.12.5"
  }
 },
 "nbformat": 4,
 "nbformat_minor": 5
}
