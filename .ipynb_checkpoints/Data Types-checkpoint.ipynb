{
 "cells": [
  {
   "cell_type": "code",
   "execution_count": 2,
   "id": "ffe959f2-998d-47da-8846-fc959d0b31c3",
   "metadata": {},
   "outputs": [
    {
     "name": "stdout",
     "output_type": "stream",
     "text": [
      "[10, 20, 30, 40]\n",
      "(10, 20, 30)\n",
      "{10, 20, 30}\n",
      "{'eid': 1001, 'ename': 'Rahul'}\n"
     ]
    }
   ],
   "source": [
    "l = [10,20,30,40]\n",
    "t = (10,20,30)\n",
    "s = {10,20,30}\n",
    "d = {\n",
    "    'eid':1001,\n",
    "    'ename':'Rahul'\n",
    "}\n",
    "print(l)\n",
    "print(t)\n",
    "print(s)\n",
    "print(d)"
   ]
  },
  {
   "cell_type": "code",
   "execution_count": null,
   "id": "b2ea2b79-899a-4614-83bd-c58df9d881bf",
   "metadata": {},
   "outputs": [],
   "source": []
  }
 ],
 "metadata": {
  "kernelspec": {
   "display_name": "Python 3 (ipykernel)",
   "language": "python",
   "name": "python3"
  },
  "language_info": {
   "codemirror_mode": {
    "name": "ipython",
    "version": 3
   },
   "file_extension": ".py",
   "mimetype": "text/x-python",
   "name": "python",
   "nbconvert_exporter": "python",
   "pygments_lexer": "ipython3",
   "version": "3.12.5"
  }
 },
 "nbformat": 4,
 "nbformat_minor": 5
}
