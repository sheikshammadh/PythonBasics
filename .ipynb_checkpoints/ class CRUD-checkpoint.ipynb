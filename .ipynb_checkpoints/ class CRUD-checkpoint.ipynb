{
 "cells": [
  {
   "cell_type": "code",
   "execution_count": 1,
   "id": "9906f9f7-a77f-4cfb-9ce7-d46251f01670",
   "metadata": {},
   "outputs": [
    {
     "name": "stdout",
     "output_type": "stream",
     "text": [
      "[10, 20, 30, 40, 50, 35]\n"
     ]
    }
   ],
   "source": [
    "l1=[10,20,30,40,50]\n",
    "l2=[60,70]\n",
    "l1.append(35)\n",
    "print(l1)"
   ]
  },
  {
   "cell_type": "code",
   "execution_count": 2,
   "id": "bd8460f9-287a-4c34-9569-4867dbee77a8",
   "metadata": {},
   "outputs": [
    {
     "name": "stdout",
     "output_type": "stream",
     "text": [
      "[10, 20, 30, 40, 50, 60, 70]\n"
     ]
    }
   ],
   "source": [
    "l1=[10,20,30,40,50]\n",
    "l2=[60,70]\n",
    "l1.extend(l2)\n",
    "print(l1)"
   ]
  },
  {
   "cell_type": "code",
   "execution_count": 3,
   "id": "662de980-f60b-4ac1-b4ac-abd19293fa2d",
   "metadata": {},
   "outputs": [
    {
     "name": "stdout",
     "output_type": "stream",
     "text": [
      "[10, 15, 20, 30, 40, 50]\n"
     ]
    }
   ],
   "source": [
    "l1=[10,20,30,40,50]\n",
    "l1.insert(1,15)\n",
    "print(l1)"
   ]
  },
  {
   "cell_type": "code",
   "execution_count": 4,
   "id": "611d715c-1ba4-4764-bcf3-658dd5afce8f",
   "metadata": {},
   "outputs": [
    {
     "name": "stdout",
     "output_type": "stream",
     "text": [
      "[50, 40, 30, 20, 10]\n"
     ]
    }
   ],
   "source": [
    "l1=[10,20,30,40,50]\n",
    "l1.reverse()\n",
    "print(l1)"
   ]
  },
  {
   "cell_type": "code",
   "execution_count": 5,
   "id": "38b224d6-8699-4235-9905-692754a76702",
   "metadata": {},
   "outputs": [
    {
     "name": "stdout",
     "output_type": "stream",
     "text": [
      "<built-in method sort of list object at 0x000001A00C38B400>\n"
     ]
    }
   ],
   "source": [
    "l1=[10,40,30,20,50]\n",
    "l1.sort()\n",
    "print(l1.sort)"
   ]
  },
  {
   "cell_type": "code",
   "execution_count": 6,
   "id": "23c745f0-05e8-4846-a30b-86dc9197db9f",
   "metadata": {},
   "outputs": [
    {
     "name": "stdout",
     "output_type": "stream",
     "text": [
      "[10, 20, 30, 40, 50]\n"
     ]
    }
   ],
   "source": [
    "l1=[10,40,30,20,50]\n",
    "l1.sort()\n",
    "print(l1)"
   ]
  },
  {
   "cell_type": "code",
   "execution_count": 8,
   "id": "5b7d60ec-cda7-48b1-8f9e-418d228597c9",
   "metadata": {},
   "outputs": [
    {
     "name": "stdout",
     "output_type": "stream",
     "text": [
      "['bhavani', 'megha', 'shyam', 'vasu']\n"
     ]
    }
   ],
   "source": [
    "ename=['vasu','megha','bhavani','shyam']\n",
    "ename.sort()\n",
    "print(ename)"
   ]
  },
  {
   "cell_type": "code",
   "execution_count": 9,
   "id": "d4bd66d3-fbd1-446f-b87d-19118b1cf114",
   "metadata": {},
   "outputs": [
    {
     "name": "stdout",
     "output_type": "stream",
     "text": [
      "['vasu', 'shyam', 'megha', 'bhavani']\n"
     ]
    }
   ],
   "source": [
    "ename=['vasu','megha','bhavani','shyam']\n",
    "ename.sort(reverse=True)\n",
    "print(ename)"
   ]
  },
  {
   "cell_type": "code",
   "execution_count": 10,
   "id": "1b38df04-a84e-4c79-8e88-00b9b2c7b494",
   "metadata": {},
   "outputs": [
    {
     "ename": "TypeError",
     "evalue": "'<' not supported between instances of 'int' and 'str'",
     "output_type": "error",
     "traceback": [
      "\u001b[1;31m---------------------------------------------------------------------------\u001b[0m",
      "\u001b[1;31mTypeError\u001b[0m                                 Traceback (most recent call last)",
      "Cell \u001b[1;32mIn[10], line 2\u001b[0m\n\u001b[0;32m      1\u001b[0m ename\u001b[38;5;241m=\u001b[39m[\u001b[38;5;124m'\u001b[39m\u001b[38;5;124mvasu\u001b[39m\u001b[38;5;124m'\u001b[39m,\u001b[38;5;124m'\u001b[39m\u001b[38;5;124mmegha\u001b[39m\u001b[38;5;124m'\u001b[39m,\u001b[38;5;124m'\u001b[39m\u001b[38;5;124mbhavani\u001b[39m\u001b[38;5;124m'\u001b[39m,\u001b[38;5;124m'\u001b[39m\u001b[38;5;124mshyam\u001b[39m\u001b[38;5;124m'\u001b[39m,\u001b[38;5;241m10\u001b[39m,\u001b[38;5;241m50\u001b[39m]\n\u001b[1;32m----> 2\u001b[0m \u001b[43mename\u001b[49m\u001b[38;5;241;43m.\u001b[39;49m\u001b[43msort\u001b[49m\u001b[43m(\u001b[49m\u001b[43m)\u001b[49m\n\u001b[0;32m      3\u001b[0m \u001b[38;5;28mprint\u001b[39m(ename)\n",
      "\u001b[1;31mTypeError\u001b[0m: '<' not supported between instances of 'int' and 'str'"
     ]
    }
   ],
   "source": [
    "ename=['vasu','megha','bhavani','shyam',10,50]\n",
    "ename.sort()\n",
    "print(ename)"
   ]
  },
  {
   "cell_type": "code",
   "execution_count": 11,
   "id": "c22af84e-40f8-4487-a468-4f37a6ca4491",
   "metadata": {},
   "outputs": [
    {
     "name": "stdout",
     "output_type": "stream",
     "text": [
      "[5.7, 34, 20000.5, 245000]\n"
     ]
    }
   ],
   "source": [
    "sal=[20000.5,34,245000,5.7]\n",
    "sal.sort()\n",
    "print(sal)"
   ]
  },
  {
   "cell_type": "code",
   "execution_count": 12,
   "id": "43343602-6ab9-4bf7-a921-90e2ba424f7d",
   "metadata": {},
   "outputs": [
    {
     "name": "stdout",
     "output_type": "stream",
     "text": [
      "[]\n"
     ]
    }
   ],
   "source": [
    "#update\n",
    "# list delete methods\n",
    "l1=[10,20,30,40,50]\n",
    "l1.clear()\n",
    "print(l1)\n"
   ]
  },
  {
   "cell_type": "code",
   "execution_count": 13,
   "id": "6301a7df-9ed0-4d5b-b7eb-17bacbad097b",
   "metadata": {},
   "outputs": [
    {
     "name": "stdout",
     "output_type": "stream",
     "text": [
      "[10, 20, 30, 40]\n"
     ]
    }
   ],
   "source": [
    "l1=[10,20,30,40,50]\n",
    "l1.pop()\n",
    "print(l1)"
   ]
  },
  {
   "cell_type": "code",
   "execution_count": 14,
   "id": "5e1b89e3-a38b-4c0c-9050-e460e33ff3f6",
   "metadata": {},
   "outputs": [
    {
     "name": "stdout",
     "output_type": "stream",
     "text": [
      "[10, 20, 30, 50]\n"
     ]
    }
   ],
   "source": [
    "l1=[10,20,30,40,50]\n",
    "l1.remove(40)\n",
    "print(l1)"
   ]
  },
  {
   "cell_type": "code",
   "execution_count": 15,
   "id": "0fab32b0-cbd4-42fa-ac2d-6a884cfc3fb1",
   "metadata": {},
   "outputs": [
    {
     "ename": "ValueError",
     "evalue": "list.remove(x): x not in list",
     "output_type": "error",
     "traceback": [
      "\u001b[1;31m---------------------------------------------------------------------------\u001b[0m",
      "\u001b[1;31mValueError\u001b[0m                                Traceback (most recent call last)",
      "Cell \u001b[1;32mIn[15], line 2\u001b[0m\n\u001b[0;32m      1\u001b[0m l1\u001b[38;5;241m=\u001b[39m[\u001b[38;5;241m10\u001b[39m,\u001b[38;5;241m20\u001b[39m,\u001b[38;5;241m30\u001b[39m,\u001b[38;5;241m40\u001b[39m,\u001b[38;5;241m50\u001b[39m]\n\u001b[1;32m----> 2\u001b[0m \u001b[43ml1\u001b[49m\u001b[38;5;241;43m.\u001b[39;49m\u001b[43mremove\u001b[49m\u001b[43m(\u001b[49m\u001b[38;5;241;43m300\u001b[39;49m\u001b[43m)\u001b[49m\n\u001b[0;32m      3\u001b[0m \u001b[38;5;28mprint\u001b[39m(l1)\n",
      "\u001b[1;31mValueError\u001b[0m: list.remove(x): x not in list"
     ]
    }
   ],
   "source": [
    "l1=[10,20,30,40,50]\n",
    "l1.remove(300)\n",
    "print(l1)"
   ]
  },
  {
   "cell_type": "code",
   "execution_count": 17,
   "id": "7a333175-3491-413e-91f3-ebb5ac82c1f3",
   "metadata": {},
   "outputs": [
    {
     "ename": "IndexError",
     "evalue": "pop from empty list",
     "output_type": "error",
     "traceback": [
      "\u001b[1;31m---------------------------------------------------------------------------\u001b[0m",
      "\u001b[1;31mIndexError\u001b[0m                                Traceback (most recent call last)",
      "Cell \u001b[1;32mIn[17], line 2\u001b[0m\n\u001b[0;32m      1\u001b[0m l1\u001b[38;5;241m=\u001b[39m[]\n\u001b[1;32m----> 2\u001b[0m \u001b[43ml1\u001b[49m\u001b[38;5;241;43m.\u001b[39;49m\u001b[43mpop\u001b[49m\u001b[43m(\u001b[49m\u001b[43m)\u001b[49m\n\u001b[0;32m      3\u001b[0m \u001b[38;5;28mprint\u001b[39m(l1)\n",
      "\u001b[1;31mIndexError\u001b[0m: pop from empty list"
     ]
    }
   ],
   "source": [
    "l1=[]\n",
    "l1.pop()\n",
    "print(l1)"
   ]
  },
  {
   "cell_type": "code",
   "execution_count": 19,
   "id": "cb74ab14-bbc6-4b86-833f-ecd23439aa14",
   "metadata": {},
   "outputs": [
    {
     "ename": "SyntaxError",
     "evalue": "invalid syntax (2380460330.py, line 6)",
     "output_type": "error",
     "traceback": [
      "\u001b[1;36m  Cell \u001b[1;32mIn[19], line 6\u001b[1;36m\u001b[0m\n\u001b[1;33m    print(type(t2)\u001b[0m\n\u001b[1;37m    ^\u001b[0m\n\u001b[1;31mSyntaxError\u001b[0m\u001b[1;31m:\u001b[0m invalid syntax\n"
     ]
    }
   ],
   "source": [
    "t1=()\n",
    "t2=10,20,30\n",
    "t3=tuple([10,20,30,40])\n",
    "t4=(10,True,\"rahul\",20,\"sonia\",30)\n",
    "print(type(t1)\n",
    "print(type(t2)\n",
    "print(type(t3)\n",
    "print(type(t4)\n",
    "print(t1)\n",
    "print(t2)\n",
    "print(t3)\n",
    "print(t4)"
   ]
  },
  {
   "cell_type": "code",
   "execution_count": 22,
   "id": "dbea421f-9c70-430c-9c09-63a25ed16e80",
   "metadata": {},
   "outputs": [
    {
     "name": "stdout",
     "output_type": "stream",
     "text": [
      "vasu\n",
      "megha\n",
      "bhavani\n",
      "shyam\n"
     ]
    }
   ],
   "source": [
    "ename=['vasu','megha','bhavani','shyam']\n",
    "for enames in ename:\n",
    "    print(enames)"
   ]
  },
  {
   "cell_type": "code",
   "execution_count": 25,
   "id": "89e35c96-6755-4bb6-9b63-fe12a4b8cb55",
   "metadata": {},
   "outputs": [
    {
     "name": "stdout",
     "output_type": "stream",
     "text": [
      "s\n",
      "h\n",
      "y\n",
      "a\n"
     ]
    }
   ],
   "source": [
    "ename=['vasu','megha','bhavani','shyam']\n",
    "i=0\n",
    "while i<=len(ename)-1:\n",
    "    print(enames[i])\n",
    "    i=i+1"
   ]
  },
  {
   "cell_type": "code",
   "execution_count": 29,
   "id": "99494552-082b-4960-84ce-3cad76fee7ab",
   "metadata": {},
   "outputs": [
    {
     "name": "stdout",
     "output_type": "stream",
     "text": [
      "<class 'dict'>\n",
      "<class 'set'>\n",
      "<class 'set'>\n"
     ]
    }
   ],
   "source": [
    "s1={}\n",
    "s2={10,20,30}\n",
    "s3=set()\n",
    "print(type(s1))\n",
    "print(type(s2))\n",
    "print(type(s3))"
   ]
  },
  {
   "cell_type": "code",
   "execution_count": 30,
   "id": "ecb190d8-0a9e-4d45-b7a6-1a48ff83cf5c",
   "metadata": {},
   "outputs": [
    {
     "name": "stdout",
     "output_type": "stream",
     "text": [
      "[101, 102, 103, 104, 105, 106, 107]\n",
      "(101, 102, 103, 104, 105, 106, 107)\n",
      "{101, 102, 103, 104, 105, 106, 107}\n"
     ]
    }
   ],
   "source": [
    "l1=[101,102,103,104,105,106,107]\n",
    "t1=(101,102,103,104,105,106,107)\n",
    "s1={101,102,103,104,105,106,107}\n",
    "print(l1)\n",
    "print(t1)\n",
    "print(s1)"
   ]
  },
  {
   "cell_type": "code",
   "execution_count": 32,
   "id": "06692fe9-1bef-47e4-a4df-929958c53083",
   "metadata": {},
   "outputs": [
    {
     "name": "stdout",
     "output_type": "stream",
     "text": [
      "{True, 20.4, 10, 'sonia', 'rahul', (10, 20)}\n"
     ]
    }
   ],
   "source": [
    "s1={10,\"rahul\",20.4,True,(10,20)}\n",
    "s1.add(\"sonia\")\n",
    "print(s1)"
   ]
  },
  {
   "cell_type": "code",
   "execution_count": 33,
   "id": "89574ce2-f33f-4c8c-bcf0-296e97ced53e",
   "metadata": {},
   "outputs": [
    {
     "name": "stdout",
     "output_type": "stream",
     "text": [
      "{True, 20.4, 10, 'rahul', (10, 20)}\n",
      "{True, 20.4, 10, 'rahul', (10, 20)}\n",
      "{True, 20.4, 10, 'rahul', (10, 20)}\n",
      "{True, 20.4, 10, 'rahul', (10, 20)}\n",
      "{True, 20.4, 10, 'rahul', (10, 20)}\n"
     ]
    }
   ],
   "source": [
    "s1={10,\"rahul\",20.4,True,(10,20)}\n",
    "for x in s1:\n",
    "    print(s1)"
   ]
  },
  {
   "cell_type": "code",
   "execution_count": 35,
   "id": "7b17173e-11c5-46ed-a7ce-14f75855ff08",
   "metadata": {},
   "outputs": [
    {
     "name": "stdout",
     "output_type": "stream",
     "text": [
      "{20.4, 10, 'rahul', (10, 20)}\n"
     ]
    }
   ],
   "source": [
    "s1={10,\"rahul\",20.4,True,(10,20)}\n",
    "s1.pop()\n",
    "print(s1)"
   ]
  },
  {
   "cell_type": "code",
   "execution_count": 36,
   "id": "a09dcddd-3900-4c4a-9d8c-776138c58a6c",
   "metadata": {},
   "outputs": [
    {
     "name": "stdout",
     "output_type": "stream",
     "text": [
      "{True, 20.4, 10, (10, 20)}\n"
     ]
    }
   ],
   "source": [
    "s1={10,\"rahul\",20.4,True,(10,20)}\n",
    "s1.remove(\"rahul\")\n",
    "print(s1)"
   ]
  },
  {
   "cell_type": "code",
   "execution_count": null,
   "id": "f69d0084-3a08-4d32-ae6d-1d19803f946f",
   "metadata": {},
   "outputs": [],
   "source": [
    "s1={10,\"rahul\",20.4,True,(10,20)}\n"
   ]
  }
 ],
 "metadata": {
  "kernelspec": {
   "display_name": "Python 3 (ipykernel)",
   "language": "python",
   "name": "python3"
  },
  "language_info": {
   "codemirror_mode": {
    "name": "ipython",
    "version": 3
   },
   "file_extension": ".py",
   "mimetype": "text/x-python",
   "name": "python",
   "nbconvert_exporter": "python",
   "pygments_lexer": "ipython3",
   "version": "3.12.5"
  }
 },
 "nbformat": 4,
 "nbformat_minor": 5
}
